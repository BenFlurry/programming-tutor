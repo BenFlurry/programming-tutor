{
 "cells": [
  {
   "cell_type": "markdown",
   "id": "6f3fd86e",
   "metadata": {},
   "source": [
    "### TA Lab Week 2 – Fundamentals\n",
    "The goal of this lab is to help develop your algorithmic thinking further, as you attempt to efficiently solve a number of puzzle problems.\n"
   ]
  },
  {
   "cell_type": "markdown",
   "id": "d7e87757",
   "metadata": {},
   "source": [
    "## Exercise 1 – Unique paths\n",
    "Image you have a grid of r rows and c columns. You are standing at the top left corner of a grid (s) and you want to move to a goal (g). You can move through the grid only by moving right or down.  For any two given integers (r,c), how many unique paths exist to get from s to g?\n",
    "\n",
    "For a 2x2 grid the answer is 2. You can go down and right, or right and down:\n",
    "\n",
    "s .\n",
    ". g\n",
    "\n",
    "What for a grid r x c?\n",
    "\n",
    "### Hint\n",
    "What happens if you reach the border of the grid?\n"
   ]
  },
  {
   "cell_type": "code",
   "execution_count": null,
   "id": "c29ca167",
   "metadata": {},
   "outputs": [],
   "source": []
  },
  {
   "cell_type": "markdown",
   "id": "3ec965ee",
   "metadata": {},
   "source": [
    "## Exercise 2 – Min-cost climbing stairs\n",
    "On a staircase, the i-th step has some non-negative cost cost[i] assigned to it. The staircase starts at index i=0. Once you pay the cost, you can either climb one or two steps. Design and implement an algorithm to find the minimum cost to reach the top floor. You can start your climb from either step index 0, or step index 1.\n",
    "\n",
    "**For example**, given a staircase of 9 floors (from 0 to 8) and input cost = [1, 100, 1, 1, 1, 100, 1, 1, 100, 1], the min-cost climb starting from 0 is 6.\n",
    "\n",
    "### Hint\n",
    "Think from top to bottom, and bottom to top.\n",
    "\n"
   ]
  }
 ],
 "metadata": {
  "kernelspec": {
   "display_name": "Python 3 (ipykernel)",
   "language": "python",
   "name": "python3"
  },
  "language_info": {
   "codemirror_mode": {
    "name": "ipython",
    "version": 3
   },
   "file_extension": ".py",
   "mimetype": "text/x-python",
   "name": "python",
   "nbconvert_exporter": "python",
   "pygments_lexer": "ipython3",
   "version": "3.9.13"
  }
 },
 "nbformat": 4,
 "nbformat_minor": 5
}
