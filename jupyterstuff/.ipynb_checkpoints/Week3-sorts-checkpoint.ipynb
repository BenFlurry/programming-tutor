{
 "cells": [
  {
   "cell_type": "markdown",
   "id": "b9b4221c",
   "metadata": {},
   "source": [
    "# Sorts\n",
    "### Bubble sort"
   ]
  },
  {
   "cell_type": "code",
   "execution_count": 7,
   "id": "a86c7227",
   "metadata": {},
   "outputs": [],
   "source": [
    "def bubblesort(a):\n",
    "    for i in range(len(a)-1):\n",
    "        # count the number of swaps on each pass, if 0 are made the list is sorted\n",
    "        swaps = 0\n",
    "        for j in range(len(a)-i-1):\n",
    "            # swap if greater than the value ahead in the list\n",
    "            if a[j] > a[j+1]:\n",
    "                a[j], a[j+1] = a[j+1], a[j]\n",
    "                swaps += 1\n",
    "            j += 1\n",
    "\n",
    "        # if no swaps were made then the list is sorted\n",
    "        if swaps == 0:\n",
    "            return a\n",
    "    return a"
   ]
  },
  {
   "cell_type": "markdown",
   "id": "c6300e18",
   "metadata": {},
   "source": [
    "### Insertion sort"
   ]
  },
  {
   "cell_type": "code",
   "execution_count": 8,
   "id": "1308cef1",
   "metadata": {},
   "outputs": [],
   "source": [
    "def insertionsort(a):\n",
    "    # split holds the first index in the non sorted section of the list\n",
    "    split = 0\n",
    "    current = len(a)-1\n",
    "    for _ in range(len(a)):\n",
    "        j = 0\n",
    "        # take the end value of the list and compare it to the sorted section\n",
    "        while j < split and a[j] < a[current]:\n",
    "            j += 1\n",
    "        # insert it at the point where it belongs\n",
    "        a.insert(j, a[current])\n",
    "        # and remove it off of the end of the list\n",
    "        a.pop(current+1)\n",
    "        split += 1\n",
    "    return a"
   ]
  },
  {
   "cell_type": "markdown",
   "id": "7ee8e54e",
   "metadata": {},
   "source": [
    "### Merge sort (standard)"
   ]
  },
  {
   "cell_type": "code",
   "execution_count": 9,
   "id": "3b344f31",
   "metadata": {},
   "outputs": [],
   "source": [
    "def mergesort(arr):\n",
    "    # recursive base case for when the list has been split into individual elements\n",
    "    if len(arr) <= 1:\n",
    "        return\n",
    "\n",
    "    mid = len(arr) // 2\n",
    "    left = arr[:mid]\n",
    "    right = arr[mid:]\n",
    "\n",
    "    # Recursive call on each half\n",
    "    mergesort(left)\n",
    "    mergesort(right)\n",
    "\n",
    "    # Two iterators for traversing the two halves\n",
    "    i = 0\n",
    "    j = 0\n",
    "\n",
    "    # Iterator for the main list\n",
    "    k = 0\n",
    "\n",
    "    while i < len(left) and j < len(right):\n",
    "        if left[i] <= right[j]:\n",
    "            # The value from the left half has been used\n",
    "            arr[k] = left[i]\n",
    "            # Move the iterator forward\n",
    "            i += 1\n",
    "        else:\n",
    "            arr[k] = right[j]\n",
    "            j += 1\n",
    "        # Move to the next slot\n",
    "        k += 1\n",
    "\n",
    "    # For all the remaining values\n",
    "    while i < len(left):\n",
    "        arr[k] = left[i]\n",
    "        i += 1\n",
    "        k += 1\n",
    "\n",
    "    while j < len(right):\n",
    "        arr[k] = right[j]\n",
    "        j += 1\n",
    "        k += 1"
   ]
  },
  {
   "cell_type": "markdown",
   "id": "d99c0462",
   "metadata": {},
   "source": [
    "### Merge sort (list comprehension)"
   ]
  },
  {
   "cell_type": "code",
   "execution_count": null,
   "id": "808f291a",
   "metadata": {},
   "outputs": [],
   "source": []
  },
  {
   "cell_type": "markdown",
   "id": "8fc54fca",
   "metadata": {},
   "source": [
    "### Quick sort (standard)"
   ]
  },
  {
   "cell_type": "code",
   "execution_count": 31,
   "id": "cba122dd",
   "metadata": {},
   "outputs": [],
   "source": [
    "def qsort(a, lo, hi):\n",
    "    if hi <= lo:\n",
    "        return\n",
    "    \n",
    "    # pivot is the first value of the array\n",
    "    pivot = a[lo]\n",
    "    i = lo + 1\n",
    "    j = hi\n",
    "    \n",
    "    while True:\n",
    "        # increment i, decrement j until a value needs to be swapped, or the pointers hit each other\n",
    "        while i <= j and a[i] <= pivot:\n",
    "            i += 1\n",
    "    \n",
    "        while i <= j and a[j] >= pivot:\n",
    "            j -= 1\n",
    "\n",
    "        # stop partitioning when pointers cross\n",
    "        if i > j:\n",
    "            break\n",
    "\n",
    "        a[i], a[j] = a[j], a[i]\n",
    "\n",
    "    # swap pivot with the midpoint of the partition\n",
    "    a[lo], a[j] = a[j], a[lo]\n",
    "\n",
    "    # recursively call on the 2 halfs of the array split at the pivot\n",
    "    qsort(a, lo, j-1)\n",
    "    qsort(a, j+1, hi)"
   ]
  },
  {
   "cell_type": "markdown",
   "id": "b8f95faa",
   "metadata": {},
   "source": [
    "### Quick sort (list comprehension)"
   ]
  },
  {
   "cell_type": "code",
   "execution_count": 33,
   "id": "fd77dfbe",
   "metadata": {},
   "outputs": [],
   "source": [
    "def quickSort(a):\n",
    "    if len(a) <= 1:\n",
    "        return a\n",
    "    left = [x for x in a[1:] if x < a[0]]\n",
    "    right = [x for x in a[1:] if x >= a[0]]\n",
    "    return quickSort(left) + [a[0]] + quickSort(right)"
   ]
  },
  {
   "cell_type": "markdown",
   "id": "ad7e3da0",
   "metadata": {},
   "source": [
    "### Heap sort (max based)\n",
    "there is a bug which means that half of the time the first 2 values are swapped"
   ]
  },
  {
   "cell_type": "code",
   "execution_count": 38,
   "id": "fa15bb85",
   "metadata": {},
   "outputs": [
    {
     "name": "stdout",
     "output_type": "stream",
     "text": [
      "[25, 36, 32, 22, 26, 36, 25, 96, 39, 6, 74, 9, 23, 9, 57, 77]\n",
      "--------------\n",
      "[9, 6, 9, 22, 23, 25, 25, 26, 32, 36, 36, 39, 57, 74, 77, 96]\n"
     ]
    }
   ],
   "source": [
    "# this is for a max based binary tree\n",
    "import random\n",
    "\n",
    "\n",
    "def heapsort(a):\n",
    "    # using an index of 1 makes this sm easier\n",
    "    a.insert(0, -1)\n",
    "    n = len(a)\n",
    "    i = n//2+1\n",
    "    # order the tree by iterating through nodes without children (len(n/2)) and sinking them down\n",
    "    while i >= 1:\n",
    "        a = sink(a, i)\n",
    "        i -= 1\n",
    "\n",
    "    sort = []\n",
    "    # iterate through the heap\n",
    "    for i in range(len(a)-1):\n",
    "        # swap the head node and the last node\n",
    "        a[1], a[-1] = a[-1], a[1]\n",
    "        # delete the node off of the heap and add it to the sorted list\n",
    "        sort.insert(0, a.pop(-1))\n",
    "        # then sink the new head down\n",
    "        a = sink(a, 1)\n",
    "\n",
    "    return sort\n",
    "\n",
    "def sink(a, i):\n",
    "    # return if a sink operation is attempted on a child\n",
    "    if i >= len(a)//2:\n",
    "        return a\n",
    "\n",
    "    # if there is only 1 child node (edge case)\n",
    "    if i*2 == len(a)-1:\n",
    "        max_child = i*2\n",
    "        min_child = 0\n",
    "\n",
    "    # find the indexes of the max and min child (either double or double+1 the parents index)\n",
    "    elif a[i*2] >= a[i*2+1]:\n",
    "        max_child = i*2\n",
    "        min_child = i*2+1\n",
    "    else:\n",
    "        max_child = i*2+1\n",
    "        min_child = i*2\n",
    "\n",
    "    # if the parent node is larger than the larger child node, then swap it and sink the child\n",
    "    if a[i] < a[max_child]:\n",
    "        a[i], a[max_child] = a[max_child], a[i]\n",
    "        sink(a, max_child)\n",
    "\n",
    "    # if the parent node is larger than the smaller child node, then swap it and sink the child\n",
    "    elif a[i] < a[min_child]:\n",
    "        a[i], a[min_child] = a[min_child], a[i]\n",
    "        sink(a, min_child)\n",
    "\n",
    "    # if the parent isnt bigger than the children then sink has finished so return array\n",
    "    return a\n",
    "\n",
    "# random.seed(2)\n",
    "a = [random.randint(1,100) for _ in range(16)]\n",
    "print(a)\n",
    "print('--------------')\n",
    "\n",
    "b = heapsort(a)\n",
    "print(b)"
   ]
  },
  {
   "cell_type": "code",
   "execution_count": null,
   "id": "7283ef4c",
   "metadata": {},
   "outputs": [],
   "source": []
  }
 ],
 "metadata": {
  "kernelspec": {
   "display_name": "Python 3 (ipykernel)",
   "language": "python",
   "name": "python3"
  },
  "language_info": {
   "codemirror_mode": {
    "name": "ipython",
    "version": 3
   },
   "file_extension": ".py",
   "mimetype": "text/x-python",
   "name": "python",
   "nbconvert_exporter": "python",
   "pygments_lexer": "ipython3",
   "version": "3.9.13"
  }
 },
 "nbformat": 4,
 "nbformat_minor": 5
}
