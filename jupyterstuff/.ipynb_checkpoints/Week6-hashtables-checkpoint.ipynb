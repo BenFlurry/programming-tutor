{
 "cells": [
  {
   "cell_type": "markdown",
   "id": "6b551eaf",
   "metadata": {},
   "source": [
    "# HashMap\n",
    "### Chained Selection Hashmap\n",
    "HashMap represented by an array of linked lists, where the hash links the array index of the beginning of the linked list where the key value pair will be held. For the best lookup times, a HashMap of size n/5 is optimal"
   ]
  },
  {
   "cell_type": "code",
   "execution_count": 1,
   "id": "377976b9",
   "metadata": {},
   "outputs": [],
   "source": [
    "class ChainedHashMap:\n",
    "    # basic node class for linked list\n",
    "    class Node:\n",
    "        def __init__(self, key, val, next=None):\n",
    "            self.key = key\n",
    "            self.val = val\n",
    "            self.next = next\n",
    "\n",
    "    def __init__(self, size):\n",
    "        # for the best lookup and push times, size being 1/5th of the number of elements is recommended\n",
    "        self.size = size/5\n",
    "        # create an empty hashtable\n",
    "        self.ht = [None for _ in range(size)]\n",
    "\n",
    "    # very basic hashing function\n",
    "    def hash(self, key):\n",
    "        return key % (self.size/5)\n",
    "\n",
    "    def put(self, key, val):\n",
    "        # check if the index in the hashtable is empty\n",
    "        hashed = self.hash(key)\n",
    "        node = self.ht[hashed]\n",
    "        head = node\n",
    "        # traverse linked list\n",
    "        while node is not None:\n",
    "            if key == node.key:\n",
    "                node.val = val\n",
    "                return\n",
    "            node = node.next\n",
    "        # if the value isnt in the linked list, it must be added to the head\n",
    "        self.ht[hashed] = self.Node(key, val, head)\n",
    "\n",
    "    def get(self, key):\n",
    "        hashed = self.hash(key)\n",
    "        node = self.ht[hashed]\n",
    "        # traverse linked list\n",
    "        while node is not None:\n",
    "            if key == node.key:\n",
    "                return node.val\n",
    "            node = node.next\n",
    "        # if not found in the linked list then it doesnt exist\n",
    "        return None\n"
   ]
  },
  {
   "cell_type": "markdown",
   "id": "c6698e33",
   "metadata": {},
   "source": [
    "### Linear Probing HashMap\n",
    "HashMap represented by an array of keys, and an array of values, where the index of the key is related to the hash of the key. If there is a collision, iterate until the key is found, or if there is an empty space in the array. A HashMap size n*2+1 is optimal"
   ]
  },
  {
   "cell_type": "code",
   "execution_count": 2,
   "id": "02b86c12",
   "metadata": {},
   "outputs": [],
   "source": [
    "class LinearProbingHashMap():\n",
    "    def __init__(self, size):\n",
    "        self.size = size*2+1\n",
    "        self.keys = [None for _ in range(self.size)]\n",
    "        self.vals = [None for _ in range(self.size)]\n",
    "\n",
    "    def put(self, key, val):\n",
    "        i = self.hash(key)\n",
    "        while True:\n",
    "            if self.keys[i] is None:\n",
    "                self.keys[i] = key\n",
    "                break\n",
    "\n",
    "            if self.keys[i] == key:\n",
    "                break\n",
    "\n",
    "            i = (i+1) % self.size\n",
    "\n",
    "        self.vals[i] = val\n",
    "\n",
    "    def get(self, key):\n",
    "        i = self.hash(key)\n",
    "        while True:\n",
    "            if self.keys[i] is None:\n",
    "                return None\n",
    "\n",
    "            if self.keys[i] == key:\n",
    "                return self.vals[i]\n",
    "\n",
    "            i = (i+1) % self.size\n",
    "\n",
    "    def hash(self, key):\n",
    "        return hash % self.size"
   ]
  },
  {
   "cell_type": "code",
   "execution_count": null,
   "id": "e0297a8f",
   "metadata": {},
   "outputs": [],
   "source": []
  }
 ],
 "metadata": {
  "kernelspec": {
   "display_name": "Python 3 (ipykernel)",
   "language": "python",
   "name": "python3"
  },
  "language_info": {
   "codemirror_mode": {
    "name": "ipython",
    "version": 3
   },
   "file_extension": ".py",
   "mimetype": "text/x-python",
   "name": "python",
   "nbconvert_exporter": "python",
   "pygments_lexer": "ipython3",
   "version": "3.9.13"
  }
 },
 "nbformat": 4,
 "nbformat_minor": 5
}
