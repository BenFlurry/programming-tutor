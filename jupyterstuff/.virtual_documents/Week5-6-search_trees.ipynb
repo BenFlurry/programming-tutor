


class Node():
    def __init__(self, key, value):
        self.value = value
        self.key = key
        self.left = None
        self.right = None



class rBST():
    def put(self, key, value):
        # update the value if key is found
        if key == self.key:
            self.value = value
        
        # going left or right accordingly
        elif key < self.key:
            # if there is no child, add a new node and return
            if self.left is None:
                self.left = Node(key, value)
                return
            
            # recursively call put on the left subtree
            self.left.put(key, value)
                
        # same but mirrored
        elif key > self.key:
            if self.right is None:
                self.right = Node(key, value)
                return
            
            self.right.put(key, value)
    
    def get(self, key):
        # return the value if key is found
        if self.key == key:
            return self.value

        # otherwise recursively call the get method on the left or right subtree
        elif key < self.key and self.left:
            return self.left.get(key)

        elif key > self.key and self.right:
            return self.right.get(key)
        
        # end recursion if cannot be found if there is no according left or right to go to
        else:
            return None
        
        





class Node:
    def __init__(self, key, value):
        self.value = value
        self.key = key
        self.left = None
        self.right = None


class BST:
    def __init__(self):
        self.root = None

    def is_empty(self):
        if self.root is None:
            return None

    def put(self, key, value):
        if self.root is None:
            self.root = Node(key, value)
            return

        current = self.root
        while True:
            if current is None:
                print('issue')

            if current.key == key:
                current.value = value
                break

            if key < current.key:
                if current.left is None:
                    current.left = Node(key, value)
                    break

                current = current.left

            elif key > current.key:
                if current.right is None:
                    current.right = Node(key, value)
                    break

                current = current.right

    def get(self, key):
        if self.root is None:
            return None

        current = self.root
        while True:
            if current.key is None:
                return None

            if current.key == key:
                return current.value

            if key < current.key:
                current = current.left

            elif key > current.key:
                current = current.right

    # edgecase for when tree > val
    def floor(self, val):
        if self.root is None:
            return None

        tmpval = None

        current = self.root
        while True:
            if current.key == val:
                return current.key

            if current.key < val:
                if current.right is None:
                    return current.key

                tmpval = current.key
                current = current.right

            if current.key > val:
                if current.left is None:
                    if tmpval is None:
                        return None
                    return tmpval

                current = current.left

    def ceiling(self, val):
        if self.root is None:
            return None

        tmpval = None

        current = self.root
        while True:
            if current.key == val:
                return current.key

            if current.key > val:
                if current.left is None:
                    return current.key

                tmpval = current.key
                current = current.left

            if current.key < val:
                if current.right is None:
                    if tmpval is None:
                        return None
                    return tmpval

                current = current.right

    def maximum(self):
        if self.root is None:
            return None

        current = self.root
        while True:
            if current.right is None:
                return current.key
            current = current.right

    def minimum(self):
        if self.root is None:
            return None

        current = self.root
        while True:
            if current.left is None:
                return current.key
            current = current.left

    def to_list(self):
        if self.root is None:
            return None
        root = self.root
        self.traversed = []
        self.inorder_traverse(root)
        return self.traversed

    def inorder_traverse(self, root):
        if root:
            self.inorder_traverse(root.left)
            self.traversed.append(root.key)
            self.inorder_traverse(root.right)

    def delete(self, key):
        if self.root is None:
            return None

        current = self.root
        parent = current
        while True:
            if current is None:
                return

            if key == current.key:
                break

            if key < current.key:
                parent = current
                current = current.left

            elif key > current.key:
                parent = current
                current = current.right

        # if there is no child nodes from the deleted node
        if current.left is None and current.right is None:
            if current == self.root:
                self.root = None
            elif parent.left is current:
                parent.left = None
            else:
                parent.right = None

        # if there is a left node but no right node
        elif current.right is None:
            if current == self.root:
                self.root = current.left
            elif parent.left == current:
                parent.left = current.right
            elif parent.right == current:
                parent.right = current.right

        elif current.left is None:
            if current == self.root:
                self.root = current.right
            elif parent.left == current:
                parent.left = current.right
            elif parent.right == current:
                parent.right = current.right

        else:
            next = current.right
            while next.left is not None:
                next = next.left

            if parent.left == current:
                parent.left = next

            current.val = next.val
            self.delete(next.val)


b = BST()
arr = [(3,'a'), (2,'c'), (3.5,'z'), (3.25, 'j'), (2.5,'l')]
for key, value in arr:
    b.put(key, value)

for key, _ in arr:
    print(b.get(key))

print(b.maximum())
print(b.minimum())
print(b.ceiling(-1000))
print(b.to_list())






class ColourNode:
    def __init__(self, key, val):
        self.key = key
        self.val = val
        self.left = None
        self.right = None
        self.is_red = True


# left leaning red-black binary search tree
class LLRBBST(BST):
    def __init__(self):
        super().__init__()
        self.root = None

    def put(self, key, val):
        if self.root is None:
            self.root = ColourNode(key, val)
            self.root.is_red = False

        # standard traversal adding nodes to stack so we can backtrack balancing the tree
        stack = []
        node = self.root
        while True:
            stack.append(node)
            if key == node:
                node.val = val
                return

            if key < node.key:
                if node.left is None:
                    node.left = ColourNode(key, val)
                    break
                node = node.left

            elif key > node.key:
                if node.right is None:
                    node.right = ColourNode(key, val)
                    break
                node = node.right

        # backtrack up the tree balancing it
        while len(stack) > 0:
            node = stack.pop()
            # rotate left if right node is red and left is black
            if node.right.is_red and not node.left.is_red:
                node = self._left_rotation(node)
            # rotate right if 2 consecutive left nodes are red
            if node.left.is_red and node.left.left.is_red:
                node = self._right_rotation(node)
            # colour swap if we end up having a 3 node
            if node.left.is_red and node.right.is_red:
                node = self._colour_flip(node)


    def _left_rotation(self, node):
        next = node.right
        node.right = next.left
        next.left = node
        next.is_red = node.is_red
        node.is_red = True
        return next

    def _right_rotation(self, node):
        next = node.left
        node.left = next.right
        next.right = node
        next.is_red = node.is_red
        node.is_red = True
        return next

    def _colour_flip(self, node):
        node.left.is_red = False
        node.right.is_red = False
        node.is_red = True
        return node

