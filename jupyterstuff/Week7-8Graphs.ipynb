{
 "cells": [
  {
   "cell_type": "markdown",
   "id": "6bffd047",
   "metadata": {},
   "source": [
    "# Weeks 7/8 Graphs"
   ]
  },
  {
   "cell_type": "code",
   "execution_count": 2,
   "id": "f4959935",
   "metadata": {},
   "outputs": [],
   "source": [
    "class Graph:\n",
    "    def __init__(self, adjacent, num_of_nodes):\n",
    "        self.num_of_nodes = num_of_nodes\n",
    "        self.adjacent = adjacent"
   ]
  },
  {
   "cell_type": "code",
   "execution_count": 3,
   "id": "1992bd1d",
   "metadata": {},
   "outputs": [],
   "source": [
    "class DepthFirst(Graph):\n",
    "    def __init__(self, adjacent, num_of_nodes):\n",
    "        super().__init__(adjacent, num_of_nodes)\n",
    "        # keep track of which nodes we have visisted\n",
    "        self.visited = [False for _ in range(self.num_of_nodes)]\n",
    "        self.stack = []\n",
    "\n",
    "    def dfs(self, v=0):\n",
    "        # visit the node\n",
    "        self.visited[v] = True\n",
    "        # for all the adjacent nodes\n",
    "        for w in self.adjacent[v]:\n",
    "            # if theyre not visited, then recursively dfs to visit them\n",
    "            if not self.visited[w]:\n",
    "                self.dfs(w)\n",
    "        # add the node onto the stack for post order search\n",
    "        self.stack.append(v)\n",
    "\n",
    "    def topological_sort(self):\n",
    "        # topological sort on all nodes incase there are more than 1 connected components\n",
    "        for v in range(self.num_of_nodes):\n",
    "            self.dfs(v)\n",
    "        # topolocial order is reversed post order, so return the reversed list\n",
    "        return self.stack[::-1]"
   ]
  },
  {
   "cell_type": "code",
   "execution_count": 4,
   "id": "41049875",
   "metadata": {},
   "outputs": [],
   "source": [
    "class BreadthFirst(Graph):\n",
    "    def __init__(self, adjacent, num_of_nodes):\n",
    "        super().__init__(adjacent, num_of_nodes)\n",
    "        # if either of these have -1 as the value, it means that the node hasnt been visited yet\n",
    "        self.distance_from_source = [-1 for _ in range(self.num_of_nodes)]\n",
    "        self.edge_to = [-1 for _ in range(self.num_of_nodes)]\n",
    "\n",
    "    def bfs(self, source):\n",
    "        # enqueue the source node\n",
    "        q = [source]\n",
    "        self.distance_from_source[source] = 0\n",
    "        # while the queue isnt empty\n",
    "        while q:\n",
    "            # dequeue the node\n",
    "            v = q.pop(0)\n",
    "            # iterate over all the adjacent node\n",
    "            for w in self.adjacent[v]:\n",
    "                # if they havent been visited i.e. dont have a distance to the source node\n",
    "                if self.distance_from_source[w] != -1:\n",
    "                    # add the node to the queue\n",
    "                    q.append(w)\n",
    "                    # and make its distance 1 more than the node it came from\n",
    "                    self.distance_from_source[w] = self.distance_from_source[v] + 1\n",
    "                    # add the node it came from to the edge to\n",
    "                    self.edge_to[w] = v\n",
    "\n",
    "    def has_path_to(self, v):\n",
    "        # if the distance from source is still -1, it was never visited so there is no path to the node\n",
    "        return self.distance_from_source[v] != -1\n",
    "\n",
    "    def path_length_to(self, v):\n",
    "        return self.distance_from_source[v]\n",
    "\n",
    "    def path_from(self, source, vertex):\n",
    "        if not self.has_path_to(vertex):\n",
    "            return None\n",
    "        path = []\n",
    "        while vertex != source:\n",
    "            path.append(vertex)\n",
    "            vertex = self.edge_to[vertex]\n",
    "        path.append(vertex)\n",
    "        return path\n",
    "\n"
   ]
  },
  {
   "cell_type": "code",
   "execution_count": null,
   "id": "da9a1edb",
   "metadata": {},
   "outputs": [],
   "source": []
  }
 ],
 "metadata": {
  "kernelspec": {
   "display_name": "Python 3 (ipykernel)",
   "language": "python",
   "name": "python3"
  },
  "language_info": {
   "codemirror_mode": {
    "name": "ipython",
    "version": 3
   },
   "file_extension": ".py",
   "mimetype": "text/x-python",
   "name": "python",
   "nbconvert_exporter": "python",
   "pygments_lexer": "ipython3",
   "version": "3.9.13"
  }
 },
 "nbformat": 4,
 "nbformat_minor": 5
}
