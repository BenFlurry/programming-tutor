{
 "cells": [
  {
   "cell_type": "markdown",
   "id": "7b8425c1",
   "metadata": {},
   "source": [
    "# Strings\n",
    "## Sorting Operations\n",
    "### Class Setup\n",
    "Generates random strings of a fixed length for LSD sort"
   ]
  },
  {
   "cell_type": "code",
   "execution_count": null,
   "id": "617cba16",
   "metadata": {},
   "outputs": [],
   "source": [
    "import random\n",
    "import string\n",
    "\n",
    "\n",
    "class key_value:\n",
    "    def __init__(self, string_length):\n",
    "        self.string_length = string_length\n",
    "        self.data = [''.join(random.choice('abcde') for _ in range(self.string_length)) for _ in range(30)]\n",
    "        self.dict = {c: i for i, c in enumerate(string.ascii_letters[:self.string_length])}\n",
    "        self.count = [0 for _ in range(self.string_length + 1)]\n",
    "        print(self.data)"
   ]
  },
  {
   "cell_type": "markdown",
   "id": "86cbffaf",
   "metadata": {},
   "source": [
    "### LSD Radix Sort"
   ]
  },
  {
   "cell_type": "code",
   "execution_count": 1,
   "id": "17157d77",
   "metadata": {},
   "outputs": [],
   "source": [
    "    def lsd_radix(self):\n",
    "        length = len(self.data[0])\n",
    "        # iterate over the length of a word\n",
    "        for i in range(length):\n",
    "            # reset the count array\n",
    "            self.count = [0 for _ in range(self.string_length+1)]\n",
    "            # recount\n",
    "            self.do_count(length - i - 1)\n",
    "            # and re order\n",
    "            self.data = self.order(length - i - 1)\n",
    "        return self.data\n",
    "\n",
    "    # uses the count array index for each character to put the word into the\n",
    "    # corresponding index in the aux array sorting it\n",
    "    def order(self, i):\n",
    "        aux = ['' for _ in range(len(self.data))]\n",
    "        for w in self.data:\n",
    "            word = w[i]\n",
    "            index = self.dict[word]\n",
    "            aux[self.count[index]] = w\n",
    "            # increment the count for that letter to point to the next free place\n",
    "            self.count[index] += 1\n",
    "        return aux\n",
    "\n",
    "    # counts the number of each letters then makes a cumulative total so\n",
    "    # it can be used to index where each letter should go in the array\n",
    "    def do_count(self, index):\n",
    "        for word in self.data:\n",
    "            i = self.dict[word[index]]\n",
    "            self.count[i + 1] += 1\n",
    "\n",
    "        # make cumulative\n",
    "        total = 0\n",
    "        for i in range(len(self.count)):\n",
    "            total += self.count[i]\n",
    "            self.count[i] = total"
   ]
  },
  {
   "cell_type": "markdown",
   "id": "a6b577ed",
   "metadata": {},
   "source": [
    "### MSD Radix Sort\n",
    "<b> This is pseudocode, when implementing a hashmap should be used to link the ascii value of the character with the index it should be at </b>"
   ]
  },
  {
   "cell_type": "code",
   "execution_count": null,
   "id": "44f7540a",
   "metadata": {},
   "outputs": [],
   "source": [
    "    def my_msd_radix(self):\n",
    "        a = self.data\n",
    "        aux = ['' for _ in self.data]\n",
    "        self.msd_radix(a, aux, 0, len(a), 0)\n",
    "\n",
    "    def msd_radix(self, a, aux, lo, hi, depth):\n",
    "        if hi <= lo:\n",
    "            return\n",
    "        count = [0 for _ in range(self.string_length+2)]\n",
    "\n",
    "        for i in range(lo, hi):\n",
    "            # using a[i] character as an index for count based off current depth to build count arr\n",
    "            count[a[i][depth]+2] += 1\n",
    "\n",
    "        for r in range(0, self.string_length+1):\n",
    "            # make the count array cumulative\n",
    "            count[r+1] = count[r+1] + count[r]\n",
    "\n",
    "        for i in range(lo, hi):\n",
    "            # adding into the aux array based off of the count array\n",
    "            aux[count[a[i][depth]+1]] = a[i]\n",
    "            # increment the count pointer for that character\n",
    "            count[a[i][depth]+1] += 1\n",
    "\n",
    "        for i in range(lo, hi):\n",
    "            # adding the data back into the original array\n",
    "            a[i] = aux[i-lo]\n",
    "\n",
    "        # call on each partition recursively\n",
    "        for r in range(0, self.string_length):\n",
    "            # call the list based off the the lo pointer + cumulative pointer of r, and r+1, with depth+1\n",
    "            self.msd_radix(a, aux, lo+count[r], lo+count[r+1]-1, depth+1)"
   ]
  }
 ],
 "metadata": {
  "kernelspec": {
   "display_name": "Python 3 (ipykernel)",
   "language": "python",
   "name": "python3"
  },
  "language_info": {
   "codemirror_mode": {
    "name": "ipython",
    "version": 3
   },
   "file_extension": ".py",
   "mimetype": "text/x-python",
   "name": "python",
   "nbconvert_exporter": "python",
   "pygments_lexer": "ipython3",
   "version": "3.9.13"
  }
 },
 "nbformat": 4,
 "nbformat_minor": 5
}
